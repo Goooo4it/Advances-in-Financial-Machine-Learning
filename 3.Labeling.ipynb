{
 "cells": [
  {
   "cell_type": "code",
   "execution_count": 106,
   "metadata": {},
   "outputs": [],
   "source": [
    "import numpy as np\n",
    "import pandas as pd\n",
    "\n",
    "\n",
    "import matplotlib.pyplot as plt\n",
    "import seaborn as sns\n",
    "import plotly.graph_objects as go\n",
    "import plotly.io as pio\n",
    "pio.renderers.default = \"svg\"\n",
    "import random\n",
    "\n",
    "import statsmodels.api as sm\n",
    "import scipy.stats as stats\n",
    "\n",
    "import yfinance as yf"
   ]
  },
  {
   "cell_type": "code",
   "execution_count": 107,
   "metadata": {},
   "outputs": [],
   "source": [
    "import packages.data_analysis as da"
   ]
  },
  {
   "cell_type": "code",
   "execution_count": 68,
   "metadata": {},
   "outputs": [
    {
     "name": "stderr",
     "output_type": "stream",
     "text": [
      "[*********************100%***********************]  1 of 1 completed"
     ]
    },
    {
     "name": "stdout",
     "output_type": "stream",
     "text": [
      "(1726, 6)\n"
     ]
    },
    {
     "name": "stderr",
     "output_type": "stream",
     "text": [
      "\n"
     ]
    }
   ],
   "source": [
    "## get the data\n",
    "es_data = yf.download(\"AAPL\", start='2018-01-01', end='2024-11-10', interval=\"1d\") \n",
    "es_data.columns = es_data.columns.get_level_values(0)\n",
    "es_data.index = pd.to_datetime((es_data.index).tz_localize(None))\n",
    "print(es_data.shape)"
   ]
  },
  {
   "cell_type": "code",
   "execution_count": 69,
   "metadata": {},
   "outputs": [
    {
     "data": {
      "text/html": [
       "<div>\n",
       "<style scoped>\n",
       "    .dataframe tbody tr th:only-of-type {\n",
       "        vertical-align: middle;\n",
       "    }\n",
       "\n",
       "    .dataframe tbody tr th {\n",
       "        vertical-align: top;\n",
       "    }\n",
       "\n",
       "    .dataframe thead th {\n",
       "        text-align: right;\n",
       "    }\n",
       "</style>\n",
       "<table border=\"1\" class=\"dataframe\">\n",
       "  <thead>\n",
       "    <tr style=\"text-align: right;\">\n",
       "      <th>Price</th>\n",
       "      <th>Adj Close</th>\n",
       "      <th>Close</th>\n",
       "      <th>High</th>\n",
       "      <th>Low</th>\n",
       "      <th>Open</th>\n",
       "      <th>Volume</th>\n",
       "    </tr>\n",
       "    <tr>\n",
       "      <th>Date</th>\n",
       "      <th></th>\n",
       "      <th></th>\n",
       "      <th></th>\n",
       "      <th></th>\n",
       "      <th></th>\n",
       "      <th></th>\n",
       "    </tr>\n",
       "  </thead>\n",
       "  <tbody>\n",
       "    <tr>\n",
       "      <th>2018-01-02</th>\n",
       "      <td>40.524349</td>\n",
       "      <td>43.064999</td>\n",
       "      <td>43.075001</td>\n",
       "      <td>42.314999</td>\n",
       "      <td>42.540001</td>\n",
       "      <td>102223600</td>\n",
       "    </tr>\n",
       "    <tr>\n",
       "      <th>2018-01-03</th>\n",
       "      <td>40.517292</td>\n",
       "      <td>43.057499</td>\n",
       "      <td>43.637501</td>\n",
       "      <td>42.990002</td>\n",
       "      <td>43.132500</td>\n",
       "      <td>118071600</td>\n",
       "    </tr>\n",
       "    <tr>\n",
       "      <th>2018-01-04</th>\n",
       "      <td>40.705486</td>\n",
       "      <td>43.257500</td>\n",
       "      <td>43.367500</td>\n",
       "      <td>43.020000</td>\n",
       "      <td>43.134998</td>\n",
       "      <td>89738400</td>\n",
       "    </tr>\n",
       "    <tr>\n",
       "      <th>2018-01-05</th>\n",
       "      <td>41.168938</td>\n",
       "      <td>43.750000</td>\n",
       "      <td>43.842499</td>\n",
       "      <td>43.262501</td>\n",
       "      <td>43.360001</td>\n",
       "      <td>94640000</td>\n",
       "    </tr>\n",
       "    <tr>\n",
       "      <th>2018-01-08</th>\n",
       "      <td>41.016014</td>\n",
       "      <td>43.587502</td>\n",
       "      <td>43.902500</td>\n",
       "      <td>43.482498</td>\n",
       "      <td>43.587502</td>\n",
       "      <td>82271200</td>\n",
       "    </tr>\n",
       "  </tbody>\n",
       "</table>\n",
       "</div>"
      ],
      "text/plain": [
       "Price       Adj Close      Close       High        Low       Open     Volume\n",
       "Date                                                                        \n",
       "2018-01-02  40.524349  43.064999  43.075001  42.314999  42.540001  102223600\n",
       "2018-01-03  40.517292  43.057499  43.637501  42.990002  43.132500  118071600\n",
       "2018-01-04  40.705486  43.257500  43.367500  43.020000  43.134998   89738400\n",
       "2018-01-05  41.168938  43.750000  43.842499  43.262501  43.360001   94640000\n",
       "2018-01-08  41.016014  43.587502  43.902500  43.482498  43.587502   82271200"
      ]
     },
     "execution_count": 69,
     "metadata": {},
     "output_type": "execute_result"
    }
   ],
   "source": [
    "es_data.head()"
   ]
  },
  {
   "cell_type": "code",
   "execution_count": 100,
   "metadata": {},
   "outputs": [],
   "source": [
    "# Calculate the daily volatility\n",
    "def getDailyVol(close, span0=100):\n",
    "    df0 = close.index.searchsorted(close.index-pd.Timedelta(days=1))\n",
    "    df0 = df0[df0>0]\n",
    "    df0 = pd.Series(close.index[df0-1], index=close.index[close.shape[0]-df0.shape[0]:])\n",
    "    df0=close.loc[df0.index]/close.loc[df0.values].values-1\n",
    "    #df0 = df0.ewm(span=span0).std()\n",
    "    return df0"
   ]
  },
  {
   "cell_type": "code",
   "execution_count": 101,
   "metadata": {},
   "outputs": [
    {
     "data": {
      "text/plain": [
       "Date\n",
       "2018-01-04    0.004470\n",
       "2018-01-05    0.016083\n",
       "2018-01-08   -0.003714\n",
       "2018-01-09   -0.003829\n",
       "2018-01-10   -0.000344\n",
       "                ...   \n",
       "2024-11-04   -0.004038\n",
       "2024-11-05    0.002422\n",
       "2024-11-06    0.003198\n",
       "2024-11-07    0.018035\n",
       "2024-11-08    0.019037\n",
       "Name: Close, Length: 1724, dtype: float64"
      ]
     },
     "execution_count": 101,
     "metadata": {},
     "output_type": "execute_result"
    }
   ],
   "source": [
    "getDailyVol(es_data['Close'])"
   ]
  },
  {
   "cell_type": "code",
   "execution_count": 103,
   "metadata": {},
   "outputs": [
    {
     "data": {
      "text/plain": [
       "Date\n",
       "2018-01-02    0.000174\n",
       "2018-01-03   -0.004623\n",
       "2018-01-04   -0.011257\n",
       "2018-01-05    0.003728\n",
       "2018-01-08    0.000115\n",
       "                ...   \n",
       "2024-11-04   -0.006444\n",
       "2024-11-05    0.003278\n",
       "2024-11-06   -0.020925\n",
       "2024-11-07    0.002291\n",
       "2024-11-08         NaN\n",
       "Name: Close, Length: 1726, dtype: float64"
      ]
     },
     "execution_count": 103,
     "metadata": {},
     "output_type": "execute_result"
    }
   ],
   "source": [
    "es_data['Close']/es_data['Close'].shift(-1) - 1"
   ]
  },
  {
   "cell_type": "code",
   "execution_count": 104,
   "metadata": {},
   "outputs": [
    {
     "name": "stdout",
     "output_type": "stream",
     "text": [
      "Date\n",
      "2018-01-04     43.257500\n",
      "2018-01-05     43.750000\n",
      "2018-01-08     43.587502\n",
      "2018-01-09     43.582500\n",
      "2018-01-10     43.572498\n",
      "                 ...    \n",
      "2024-11-04    222.009995\n",
      "2024-11-05    223.449997\n",
      "2024-11-06    222.720001\n",
      "2024-11-07    227.479996\n",
      "2024-11-08    226.960007\n",
      "Name: Close, Length: 1724, dtype: float64\n",
      "Date\n",
      "2018-01-02     43.064999\n",
      "2018-01-03     43.057499\n",
      "2018-01-05     43.750000\n",
      "2018-01-05     43.750000\n",
      "2018-01-08     43.587502\n",
      "                 ...    \n",
      "2024-11-01    222.910004\n",
      "2024-11-01    222.910004\n",
      "2024-11-04    222.009995\n",
      "2024-11-05    223.449997\n",
      "2024-11-06    222.720001\n",
      "Name: Close, Length: 1724, dtype: float64\n"
     ]
    },
    {
     "data": {
      "text/plain": [
       "Date\n",
       "2018-01-02    NaN\n",
       "2018-01-03    NaN\n",
       "2018-01-04    NaN\n",
       "2018-01-05    0.0\n",
       "2018-01-05    0.0\n",
       "             ... \n",
       "2024-11-04    0.0\n",
       "2024-11-05    0.0\n",
       "2024-11-06    0.0\n",
       "2024-11-07    NaN\n",
       "2024-11-08    NaN\n",
       "Name: Close, Length: 2088, dtype: float64"
      ]
     },
     "execution_count": 104,
     "metadata": {},
     "output_type": "execute_result"
    }
   ],
   "source": [
    "close = es_data['Close']\n",
    "# df0 is the places that the previous day should stay in the old index array\n",
    "df0 = close.index.searchsorted(close.index-pd.Timedelta(days=1))\n",
    "# take positive positions\n",
    "df0 = df0[df0>0]\n",
    "\n",
    "df0 = pd.Series(close.index[df0-1], index=close.index[close.shape[0]-df0.shape[0]:])\n",
    "print(close.loc[df0.index])\n",
    "print(close.loc[df0.values])\n",
    "df0=close.loc[df0.index]/close.loc[df0.values]-1\n",
    "df0"
   ]
  },
  {
   "cell_type": "code",
   "execution_count": 105,
   "metadata": {},
   "outputs": [],
   "source": [
    "def applyPtSlOnT1(close, events, ptSl, molecule):\n",
    "    # apply stop loss/profit taking, it if takes place before t1 (end of event)\n",
    "    events_ = events.loc[molecule]\n",
    "    out = events_[['t']].copy(deep=True)\n",
    "    if ptSl[0] > 0:\n",
    "        pt = ptSl[0]*events_['trgt']\n",
    "    else:\n",
    "        pt = pd.Series(index=events.index)\n",
    "    if ptSl[1] > 0:\n",
    "        sl = ptSl[1]*events_['trgt']\n",
    "    else:\n",
    "        sl = pd.Series(index=events.index)\n",
    "\n",
    "    for loc, t1 in events_['t1'].fillna(close.index[-1]).iteritems():\n",
    "        df0 = close[loc, t1] # path prices\n",
    "        df0 = (df0/close[loc] - 1)*events_.at[loc, 'side'] # path return\n",
    "        out.loc[loc, 'sl'] = df0[df0<sl[loc]].index.min()\n",
    "        out.loc[loc, 'pt'] = df0[df0>pt[loc]].index.min()\n",
    "    return out"
   ]
  },
  {
   "cell_type": "code",
   "execution_count": null,
   "metadata": {},
   "outputs": [],
   "source": [
    "def getEvents(close, tEvents, ptSl, trgt, minRet, numThreads, t1=False, side=None):\n",
    "    # 1) get target\n",
    "    trgt = trgt.loc[tEvents]\n",
    "    trgt = trgt[trgt>minRet]\n",
    "    # 2) get t1 (max holding period)\n",
    "    if t1 is False:\n",
    "        t1 = pd.Series(np.nan, index=tEvents)\n",
    "    # 3) form events object, apply stop loss on t1\n",
    "    if side is None:\n",
    "        side_, ptSl_ = pd.Series(1, index=trgt.index), [ptSl[0], ptSl[0]]\n",
    "    else:\n",
    "        side_, ptSl_ = side.loc[trgt.index], ptSl[:2]\n",
    "    events = pd.concat({'t1': t1, 'trgt': trgt, 'side': side_}, axis=1).dropna(subset=['trgt'])\n",
    "    df0 = mpPandasObj(func=applyPtSlOnT1, pdObj=('molecule', events.index),\n",
    "                      numThreads=numThreads, close=inst['Close'], events=events, ptSl=ptSl_)\n",
    "    events['t1'] = df0.dropna(how='all').min(axis=1)\n",
    "    if side is None:\n",
    "        events = events.drop('side', axis=1)\n",
    "    return events"
   ]
  }
 ],
 "metadata": {
  "kernelspec": {
   "display_name": "finance",
   "language": "python",
   "name": "python3"
  },
  "language_info": {
   "codemirror_mode": {
    "name": "ipython",
    "version": 3
   },
   "file_extension": ".py",
   "mimetype": "text/x-python",
   "name": "python",
   "nbconvert_exporter": "python",
   "pygments_lexer": "ipython3",
   "version": "3.12.7"
  }
 },
 "nbformat": 4,
 "nbformat_minor": 2
}
