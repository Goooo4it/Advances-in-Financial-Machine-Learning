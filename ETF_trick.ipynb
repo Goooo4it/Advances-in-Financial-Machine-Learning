{
 "cells": [
  {
   "cell_type": "markdown",
   "metadata": {},
   "source": [
    "- By: Oleksandr Proskurin\n",
    "- Email: proskurinolexandr@gmail.com\n",
    "- Reference: Advances in Financial Machine Learning, Marcos Lopez De Prado, pg 40"
   ]
  },
  {
   "cell_type": "markdown",
   "metadata": {},
   "source": [
    "# ETF trick use case. SPX/EuroStoxx hedging implementation"
   ]
  },
  {
   "cell_type": "markdown",
   "metadata": {},
   "source": [
    "Let's see how mlfinlab etf trick is used to solve the exercise 2.3 from Chapter 2. For this exercise we use daily SPY and EUROSTOXX futures data and EUR/USD exchange rates from https://www.investing.com/. Hedging weights are recalculated on a daily basis"
   ]
  },
  {
   "cell_type": "code",
   "execution_count": 1,
   "metadata": {},
   "outputs": [],
   "source": [
    "#imports\n",
    "import pandas as pd\n",
    "import matplotlib.pyplot as plt\n",
    "import numpy as np\n",
    "import datetime as dt\n",
    "from packages.etf_trick import ETFTrick"
   ]
  },
  {
   "cell_type": "code",
   "execution_count": 2,
   "metadata": {},
   "outputs": [],
   "source": [
    "def generate_cov_mat(row):\n",
    "    \"\"\"\n",
    "    Forms covariance matrix from current data frame row using 'rolling_cov', \n",
    "    'rolling_spx_var' and 'rolling_eur_var' column values\n",
    "    \"\"\"\n",
    "    cov = row['rolling_cov']\n",
    "    spx_var = row['rolling_spx_var']\n",
    "    euro_var = row['rolling_euro_var']\n",
    "    return np.matrix([[spx_var, cov], [cov, euro_var]])"
   ]
  },
  {
   "cell_type": "code",
   "execution_count": 3,
   "metadata": {},
   "outputs": [],
   "source": [
    "# Snippet 2.1 from a book\n",
    "def pca_weights(cov, riskDist=None, risk_target = 1.):\n",
    "    \"\"\"\n",
    "    Calculates hedging weights using covariance matrix(cov), risk distribution(riskDist) and risk_target\n",
    "    \"\"\"\n",
    "    eVal, eVec = np.linalg.eigh(cov)\n",
    "    indices = eVal.argsort()[::-1]\n",
    "    eVal, eVec = eVal[indices], eVec[:, indices]\n",
    "    if riskDist is None:\n",
    "        riskDist = np.zeros(cov.shape[0])\n",
    "        riskDist[-1] = 1.\n",
    "    loads = risk_target * (riskDist/eVal)**.5\n",
    "    wghts = np.dot(eVec, np.reshape(loads, (-1,1)))\n",
    "    return wghts"
   ]
  },
  {
   "cell_type": "markdown",
   "metadata": {},
   "source": [
    "# Data preprocessing"
   ]
  },
  {
   "cell_type": "code",
   "execution_count": 5,
   "metadata": {},
   "outputs": [],
   "source": [
    "spx = pd.read_csv('./Sample-Data/spx.csv', usecols=['Date', 'Price', 'Open'])\n",
    "euro = pd.read_csv('./Sample-Data/eurostoxx.csv', usecols=['Date', 'Price', 'Open'])\n",
    "eur_usd = pd.read_csv('./Sample-Data/eur_usd.csv', usecols = ['Date', 'Price'])"
   ]
  },
  {
   "cell_type": "code",
   "execution_count": 6,
   "metadata": {},
   "outputs": [],
   "source": [
    "# rename columns to universal format\n",
    "spx.rename(columns = {'Date': 'date', 'Price': 'close', 'Open': 'open'}, inplace=True) \n",
    "euro.rename(columns = {'Date': 'date', 'Price': 'close', 'Open': 'open'}, inplace=True)\n",
    "eur_usd.rename(columns = {'Date': 'date', 'Price': 'close'}, inplace=True)"
   ]
  },
  {
   "cell_type": "code",
   "execution_count": 7,
   "metadata": {},
   "outputs": [],
   "source": [
    "spx['date'] = pd.to_datetime(spx.date) #convert date column to datetime format\n",
    "euro['date'] = pd.to_datetime(euro.date)\n",
    "eur_usd['date'] = pd.to_datetime(eur_usd.date)"
   ]
  },
  {
   "cell_type": "code",
   "execution_count": 8,
   "metadata": {},
   "outputs": [],
   "source": [
    "# convert price data from strings to float (investing.com uses specific decimal sep format)\n",
    "spx.close = spx.close.apply(lambda x: x.replace(',', '')).astype(float)\n",
    "euro.close = euro.close.apply(lambda x: x.replace(',', '')).astype(float)\n",
    "spx.open = spx.open.apply(lambda x: x.replace(',', '')).astype(float)\n",
    "euro.open = euro.open.apply(lambda x: x.replace(',', '')).astype(float)"
   ]
  },
  {
   "cell_type": "code",
   "execution_count": 9,
   "metadata": {},
   "outputs": [],
   "source": [
    "spx.set_index('date', inplace=True)\n",
    "euro.set_index('date', inplace=True)\n",
    "eur_usd.set_index('date', inplace=True)"
   ]
  },
  {
   "cell_type": "code",
   "execution_count": 10,
   "metadata": {},
   "outputs": [],
   "source": [
    "spx.sort_index(inplace=True)\n",
    "euro.sort_index(inplace=True)\n",
    "eur_usd.sort_index(inplace=True)"
   ]
  },
  {
   "cell_type": "code",
   "execution_count": 11,
   "metadata": {},
   "outputs": [],
   "source": [
    "eur_usd = eur_usd[eur_usd.index.isin(spx.index)] # exchange rate is needed only for dates when futures are traded"
   ]
  },
  {
   "cell_type": "markdown",
   "metadata": {},
   "source": [
    "# Generate covariances and hedging weights"
   ]
  },
  {
   "cell_type": "code",
   "execution_count": 12,
   "metadata": {},
   "outputs": [],
   "source": [
    "cov_df = pd.DataFrame(index=spx.index) # init data frame with covariance and price data"
   ]
  },
  {
   "cell_type": "code",
   "execution_count": 14,
   "metadata": {},
   "outputs": [],
   "source": [
    "cov_df.loc[spx.index, 'spx_close'] = spx.loc[:, 'close']\n",
    "cov_df.loc[euro.index, 'euro_close'] = euro.loc[:, 'close']\n",
    "cov_df.loc[spx.index, 'spx_open'] = spx.loc[:, 'open']\n",
    "cov_df.loc[euro.index, 'euro_open'] = euro.loc[:, 'open']\n",
    "cov_df.loc[eur_usd.index, 'eur_usd'] = eur_usd.loc[:, 'close']\n",
    "cov_df['euro_fx_adj'] = cov_df.euro_close / cov_df.eur_usd # we need to calculate EUROSTOXX returns adjusted for FX rate\n",
    "cov_df['spx'] = cov_df.spx_close.pct_change().fillna(0)\n",
    "cov_df['euro'] = cov_df.euro_fx_adj.pct_change(fill_method=None).fillna(0)"
   ]
  },
  {
   "cell_type": "code",
   "execution_count": 15,
   "metadata": {},
   "outputs": [
    {
     "name": "stderr",
     "output_type": "stream",
     "text": [
      "/var/folders/25/p425ch954x3b1x5b51flbpmw0000gn/T/ipykernel_49664/1091811547.py:2: FutureWarning: DataFrame.fillna with 'method' is deprecated and will raise in a future version. Use obj.ffill() or obj.bfill() instead.\n",
      "  cov_df.update(cov_df.loc[:, ['spx', 'euro', 'spx_close', 'spx_open', 'euro_close', 'euro_open', 'eur_usd']].fillna(method='pad'))\n"
     ]
    }
   ],
   "source": [
    "# fill missing values with previous ones\n",
    "cov_df.update(cov_df.loc[:, ['spx', 'euro', 'spx_close', 'spx_open', 'euro_close', 'euro_open', 'eur_usd']].fillna(method='pad'))"
   ]
  },
  {
   "cell_type": "code",
   "execution_count": 16,
   "metadata": {},
   "outputs": [],
   "source": [
    "cov_df.sort_index(inplace=True)"
   ]
  },
  {
   "cell_type": "code",
   "execution_count": 17,
   "metadata": {},
   "outputs": [],
   "source": [
    "# get 252 rolling covariance between SPY and EUROSTOXX, rolling variances\n",
    "cov_df['rolling_cov'] = cov_df['spx'].rolling(window=252).cov(cov_df['euro']) \n",
    "cov_df['rolling_spx_var'] = cov_df['spx'].rolling(window=252).var()\n",
    "cov_df['rolling_euro_var'] = cov_df['euro'].rolling(window=252).var()"
   ]
  },
  {
   "cell_type": "code",
   "execution_count": 18,
   "metadata": {},
   "outputs": [],
   "source": [
    "# iterate over cov_df and on each step define hedging weights using pca_weights function\n",
    "cov_df.dropna(inplace=True)\n",
    "for index, row in cov_df.iterrows():\n",
    "    mat = generate_cov_mat(row)\n",
    "    w = pca_weights(mat)\n",
    "    cov_df.loc[index, 'spx_w'] = w[0]\n",
    "    cov_df.loc[index, 'euro_w'] = w[1]"
   ]
  },
  {
   "cell_type": "markdown",
   "metadata": {},
   "source": [
    "# Prepare data set for ETF trick"
   ]
  },
  {
   "cell_type": "markdown",
   "metadata": {},
   "source": [
    "ETFTrick class requires open_df, close_df, alloc_df, costs_df, rates_df. Each of these data frames should be in  a specific format:\n",
    "\n",
    "    1) DateTime index\n",
    "    2) Each column name corresponds to a ticker, number of columns in all data frames should be equal.In our case all   data frames contain columns: 'spx' and 'euro'. \n",
    "    For example, we implement etf trick with 5 securities: A, B, C, D, E. If for the first two years only A, B and C close data is available while for the last two years only D and E data is available, close data frame format will be:\n",
    "    index        A    B     C     D     E\n",
    "    Year 1      22.0 7.52  7.5   NaN   NaN\n",
    "    Year 1      20.7 7.96  8.2   NaN   NaN\n",
    "    .....\n",
    "    Year N      NaN  NaN   NaN   0.3   100.5\n",
    "   \n",
    "__open_df__: _open prices (in contract currency)_\n",
    "\n",
    "__close_df__: _close prices_\n",
    "\n",
    "__alloc_df__: _securities allocation vector_\n",
    "\n",
    "__costs_df__: _costs of holding/rebalancing the position_\n",
    "\n",
    "__rates_df__: _$ value of 1 point move of contract price. This includes exchange rates, futures multipliers_"
   ]
  },
  {
   "cell_type": "code",
   "execution_count": 19,
   "metadata": {},
   "outputs": [
    {
     "name": "stderr",
     "output_type": "stream",
     "text": [
      "/var/folders/25/p425ch954x3b1x5b51flbpmw0000gn/T/ipykernel_49664/2045656389.py:2: SettingWithCopyWarning: \n",
      "A value is trying to be set on a copy of a slice from a DataFrame\n",
      "\n",
      "See the caveats in the documentation: https://pandas.pydata.org/pandas-docs/stable/user_guide/indexing.html#returning-a-view-versus-a-copy\n",
      "  open_df.rename(columns = {'spx_open': 'spx', 'euro_open': 'euro'}, inplace=True)\n"
     ]
    }
   ],
   "source": [
    "open_df = cov_df[['spx_open', 'euro_open']] # create open_df\n",
    "open_df.rename(columns = {'spx_open': 'spx', 'euro_open': 'euro'}, inplace=True)"
   ]
  },
  {
   "cell_type": "code",
   "execution_count": 20,
   "metadata": {},
   "outputs": [
    {
     "name": "stderr",
     "output_type": "stream",
     "text": [
      "/var/folders/25/p425ch954x3b1x5b51flbpmw0000gn/T/ipykernel_49664/3444788309.py:2: SettingWithCopyWarning: \n",
      "A value is trying to be set on a copy of a slice from a DataFrame\n",
      "\n",
      "See the caveats in the documentation: https://pandas.pydata.org/pandas-docs/stable/user_guide/indexing.html#returning-a-view-versus-a-copy\n",
      "  close_df.rename(columns = {'spx_close': 'spx', 'euro_close': 'euro'}, inplace=True)\n"
     ]
    }
   ],
   "source": [
    "close_df = cov_df[['spx_close', 'euro_close']] # create close_df\n",
    "close_df.rename(columns = {'spx_close': 'spx', 'euro_close': 'euro'}, inplace=True)"
   ]
  },
  {
   "cell_type": "code",
   "execution_count": 21,
   "metadata": {},
   "outputs": [],
   "source": [
    "rates_df = 1/cov_df[['eur_usd']] # we need USD_EUR = 1/EUR_USD rate for EUROSTOXX price movements\n",
    "rates_df.rename(columns = {'eur_usd': 'euro'}, inplace=True)\n",
    "rates_df['spx'] = 1.0"
   ]
  },
  {
   "cell_type": "code",
   "execution_count": 22,
   "metadata": {},
   "outputs": [
    {
     "name": "stderr",
     "output_type": "stream",
     "text": [
      "/var/folders/25/p425ch954x3b1x5b51flbpmw0000gn/T/ipykernel_49664/2412113836.py:2: SettingWithCopyWarning: \n",
      "A value is trying to be set on a copy of a slice from a DataFrame\n",
      "\n",
      "See the caveats in the documentation: https://pandas.pydata.org/pandas-docs/stable/user_guide/indexing.html#returning-a-view-versus-a-copy\n",
      "  alloc_df.rename(columns={'spx_w': 'spx', 'euro_w': 'euro'}, inplace=True)\n"
     ]
    }
   ],
   "source": [
    "alloc_df = cov_df[['spx_w', 'euro_w']] # allocations data frame with weights generated using pca_weights()\n",
    "alloc_df.rename(columns={'spx_w': 'spx', 'euro_w': 'euro'}, inplace=True)"
   ]
  },
  {
   "cell_type": "code",
   "execution_count": 23,
   "metadata": {},
   "outputs": [],
   "source": [
    "costs_df = alloc_df.copy() # let's assume zero rebalancing costs\n",
    "costs_df['spx'] = 0.0\n",
    "costs_df['euro'] = 0.0"
   ]
  },
  {
   "cell_type": "code",
   "execution_count": 24,
   "metadata": {},
   "outputs": [],
   "source": [
    "trick = ETFTrick(open_df, close_df, alloc_df,\n",
    "                costs_df, rates_df, in_memory=True) # in_memory means that all data frames are stored in memory, if False open_df should be a path to open data frame"
   ]
  },
  {
   "cell_type": "code",
   "execution_count": 25,
   "metadata": {},
   "outputs": [],
   "source": [
    "trick_series = trick.get_etf_series()"
   ]
  },
  {
   "cell_type": "code",
   "execution_count": 27,
   "metadata": {},
   "outputs": [
    {
     "data": {
      "image/png": "[encoded data removed]",
      "text/plain": [
       "<Figure size 640x480 with 1 Axes>"
      ]
     },
     "metadata": {},
     "output_type": "display_data"
    }
   ],
   "source": [
    "trick_series.plot()\n",
    "plt.show()"
   ]
  },
  {
   "cell_type": "code",
   "execution_count": null,
   "metadata": {},
   "outputs": [],
   "source": []
  }
 ],
 "metadata": {
  "kernelspec": {
   "display_name": "finance",
   "language": "python",
   "name": "python3"
  },
  "language_info": {
   "codemirror_mode": {
    "name": "ipython",
    "version": 3
   },
   "file_extension": ".py",
   "mimetype": "text/x-python",
   "name": "python",
   "nbconvert_exporter": "python",
   "pygments_lexer": "ipython3",
   "version": "3.12.3"
  }
 },
 "nbformat": 4,
 "nbformat_minor": 2
}
