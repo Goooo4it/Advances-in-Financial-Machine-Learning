{
 "cells": [
  {
   "cell_type": "code",
   "execution_count": 29,
   "metadata": {},
   "outputs": [
    {
     "name": "stdout",
     "output_type": "stream",
     "text": [
      "a 1, b +, c !\n",
      "a 1, b +, c @\n",
      "a 1, b *, c !\n",
      "a 1, b *, c @\n",
      "a 2, b +, c !\n",
      "a 2, b +, c @\n",
      "a 2, b *, c !\n",
      "a 2, b *, c @\n",
      "CPU times: user 94 μs, sys: 5 μs, total: 99 μs\n",
      "Wall time: 102 μs\n"
     ]
    }
   ],
   "source": [
    "%%time\n",
    "dict0 = {'a':[1, 2], 'b':['+', '*'], 'c':['!', '@']}\n",
    "for a in dict0['a']:\n",
    "    for b in dict0['b']:\n",
    "        for c in dict0['c']:\n",
    "            print(f'a {a}, b {b}, c {c}')"
   ]
  },
  {
   "cell_type": "code",
   "execution_count": 31,
   "metadata": {},
   "outputs": [
    {
     "name": "stdout",
     "output_type": "stream",
     "text": [
      "{'a': 1, 'b': '+', 'c': '!'}\n",
      "{'a': 1, 'b': '+', 'c': '@'}\n",
      "{'a': 1, 'b': '*', 'c': '!'}\n",
      "{'a': 1, 'b': '*', 'c': '@'}\n",
      "{'a': 2, 'b': '+', 'c': '!'}\n",
      "{'a': 2, 'b': '+', 'c': '@'}\n",
      "{'a': 2, 'b': '*', 'c': '!'}\n",
      "{'a': 2, 'b': '*', 'c': '@'}\n",
      "CPU times: user 336 μs, sys: 0 ns, total: 336 μs\n",
      "Wall time: 310 μs\n"
     ]
    }
   ],
   "source": [
    "%%time\n",
    "from itertools import product\n",
    "dict0 = {'a':[1, 2], 'b':['+', '*'], 'c':['!', '@']}\n",
    "jobs = (dict(zip(dict0, i)) for i in product(*dict0.values()))\n",
    "for i in jobs:\n",
    "    print(i)"
   ]
  },
  {
   "cell_type": "markdown",
   "metadata": {},
   "source": [
    "### Single thread vs Multithreading vs Multiprocessing"
   ]
  },
  {
   "cell_type": "code",
   "execution_count": 32,
   "metadata": {},
   "outputs": [
    {
     "name": "stdout",
     "output_type": "stream",
     "text": [
      "18.34290217700618\n"
     ]
    }
   ],
   "source": [
    "import numpy as np\n",
    "def main0():\n",
    "    r = np.random.normal(0, .01, size=(1000, 10000))\n",
    "    t = barrierTouch(r)\n",
    "    return\n",
    "\n",
    "def barrierTouch(r, width=0.5):\n",
    "    # find the index of the earliest barrier touch\n",
    "    t, p = {}, np.log((1+r).cumprod(axis=0))\n",
    "    for j in range(r.shape[1]):\n",
    "        for i in range(r.shape[0]):\n",
    "            if p[i,j] >= width or p[i, j] <= -width:\n",
    "                t[j] = i\n",
    "                continue\n",
    "    return t\n",
    "\n",
    "if __name__ =='__main__':\n",
    "    import timeit\n",
    "    print(min(timeit.Timer('main0()', setup='from __main__ import main0').repeat(5,10)))"
   ]
  },
  {
   "cell_type": "code",
   "execution_count": 34,
   "metadata": {},
   "outputs": [],
   "source": [
    "import numpy as np\n",
    "import multiprocessing as mp\n",
    "\n",
    "def main1():\n",
    "    r, numThreads = np.random.normal(0, 0.01, size=(1000, 10000)), mp.cpu_count()\n",
    "    parts = np.linspace(0, r.shape[0], min(numThreads, r.shape[0])+1)\n",
    "    parts, jobs = np.ceil(parts).astype(int), []\n",
    "    for i in range(1, len(parts)):\n",
    "        jobs.append(r[:parts[i-1]:parts[i]]) # parallel jobs\n",
    "        pool, out = mp.Pool(processes=numThreads), []\n",
    "        outputs = pool.imap_unordered(barrierTouch, jobs)\n",
    "        for out_ in outputs:\n",
    "            out.append(out_)\n",
    "        pool.close()\n",
    "        pool.join()\n",
    "    return out\n",
    "\n",
    "if '__name__'=='__main__':\n",
    "    import timeit\n",
    "    print(min(timeit.Timer('main1()', setup='from __main__ import main1').repeat(5,10)))"
   ]
  },
  {
   "cell_type": "code",
   "execution_count": 35,
   "metadata": {},
   "outputs": [
    {
     "data": {
      "text/plain": [
       "array([   0,  167,  334,  500,  667,  834, 1000])"
      ]
     },
     "execution_count": 35,
     "metadata": {},
     "output_type": "execute_result"
    }
   ],
   "source": [
    "def linParts(numAtoms, numTreads):\n",
    "    parts = np.linspace(0, numAtoms, min(numTreads, numAtoms)+1)\n",
    "    parts = np.ceil(parts).astype(int)\n",
    "    return parts\n",
    "linParts(1000, 6)"
   ]
  },
  {
   "cell_type": "code",
   "execution_count": null,
   "metadata": {},
   "outputs": [],
   "source": []
  }
 ],
 "metadata": {
  "kernelspec": {
   "display_name": "finance",
   "language": "python",
   "name": "python3"
  },
  "language_info": {
   "codemirror_mode": {
    "name": "ipython",
    "version": 3
   },
   "file_extension": ".py",
   "mimetype": "text/x-python",
   "name": "python",
   "nbconvert_exporter": "python",
   "pygments_lexer": "ipython3",
   "version": "3.12.7"
  }
 },
 "nbformat": 4,
 "nbformat_minor": 2
}
