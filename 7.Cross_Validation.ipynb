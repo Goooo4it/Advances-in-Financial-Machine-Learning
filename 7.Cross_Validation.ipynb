{
 "cells": [
  {
   "cell_type": "code",
   "execution_count": null,
   "metadata": {},
   "outputs": [],
   "source": [
    "import numpy as np\n",
    "import pandas as pd\n"
   ]
  },
  {
   "cell_type": "markdown",
   "metadata": {},
   "source": [
    "#### Purging observation in the training set"
   ]
  },
  {
   "cell_type": "code",
   "execution_count": 1,
   "metadata": {},
   "outputs": [],
   "source": [
    "def getTrainTimes(t1, testTimes):\n",
    "    '''\n",
    "    Given testTimes, find the times of the training observations.\n",
    "    -t1.index: Time when the observation started.\n",
    "    -t1.value: Time when the observation ended.\n",
    "    -testTimes: Times of testing observations.\n",
    "    '''\n",
    "    trn = t1.copy(deep=True)\n",
    "    for i, j in testTimes.iteritems():\n",
    "        df0 = trn[(i<= trn.index)&(trn.index<=j)].index # train starts within test\n",
    "        df1 = trn[(i<=trn)&(j<=trn)].index # train ends within test\n",
    "        df2 = trn[(trn.index<=i)&(j<=trn)].index # train envelops test\n",
    "        trn = trn.drop(df0.union(df1).union(df2))\n",
    "    return trn"
   ]
  },
  {
   "cell_type": "markdown",
   "metadata": {},
   "source": [
    "### Embargo on training observations"
   ]
  },
  {
   "cell_type": "code",
   "execution_count": null,
   "metadata": {},
   "outputs": [],
   "source": [
    "def getEmbargoTimes()"
   ]
  }
 ],
 "metadata": {
  "kernelspec": {
   "display_name": "finance",
   "language": "python",
   "name": "python3"
  },
  "language_info": {
   "codemirror_mode": {
    "name": "ipython",
    "version": 3
   },
   "file_extension": ".py",
   "mimetype": "text/x-python",
   "name": "python",
   "nbconvert_exporter": "python",
   "pygments_lexer": "ipython3",
   "version": "3.12.7"
  }
 },
 "nbformat": 4,
 "nbformat_minor": 2
}
